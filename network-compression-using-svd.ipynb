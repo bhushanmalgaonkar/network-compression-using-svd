{
  "nbformat": 4,
  "nbformat_minor": 0,
  "metadata": {
    "colab": {
      "name": "network-compression-using-svd.ipynb",
      "version": "0.3.2",
      "provenance": []
    },
    "kernelspec": {
      "name": "python3",
      "display_name": "Python 3"
    },
    "accelerator": "GPU"
  },
  "cells": [
    {
      "metadata": {
        "colab_type": "code",
        "id": "dtmoS4obWXGF",
        "colab": {}
      },
      "cell_type": "code",
      "source": [
        "import math\n",
        "import numpy as np\n",
        "import pandas as pd"
      ],
      "execution_count": 0,
      "outputs": []
    },
    {
      "metadata": {
        "colab_type": "code",
        "id": "qLEJLHRjWXGc",
        "colab": {}
      },
      "cell_type": "code",
      "source": [
        "import seaborn as sns\n",
        "import matplotlib.pyplot as plt\n",
        "%matplotlib inline"
      ],
      "execution_count": 0,
      "outputs": []
    },
    {
      "metadata": {
        "colab_type": "code",
        "id": "TczOSacbWXG3",
        "colab": {}
      },
      "cell_type": "code",
      "source": [
        "import tensorflow as tf"
      ],
      "execution_count": 0,
      "outputs": []
    },
    {
      "metadata": {
        "colab_type": "code",
        "id": "p0KL554lWXHM",
        "outputId": "e1b2a730-32aa-4100-a208-9bc897537cbb",
        "colab": {
          "base_uri": "https://localhost:8080/",
          "height": 84
        }
      },
      "cell_type": "code",
      "source": [
        "# temporariliy suppress deprecation warnings (https://stackoverflow.com/questions/49901806/tensorflow-importing-mnist-warnings)\n",
        "old_v = tf.logging.get_verbosity()\n",
        "tf.logging.set_verbosity(tf.logging.ERROR)\n",
        "\n",
        "# load mnist data\n",
        "from tensorflow.examples.tutorials.mnist import input_data\n",
        "mnist = input_data.read_data_sets('MNIST_data', one_hot=True)\n",
        "\n",
        "# revert logging settings\n",
        "tf.logging.set_verbosity(old_v)"
      ],
      "execution_count": 4,
      "outputs": [
        {
          "output_type": "stream",
          "text": [
            "Extracting MNIST_data/train-images-idx3-ubyte.gz\n",
            "Extracting MNIST_data/train-labels-idx1-ubyte.gz\n",
            "Extracting MNIST_data/t10k-images-idx3-ubyte.gz\n",
            "Extracting MNIST_data/t10k-labels-idx1-ubyte.gz\n"
          ],
          "name": "stdout"
        }
      ]
    },
    {
      "metadata": {
        "colab_type": "code",
        "id": "DQKFkPmwWjrc",
        "outputId": "1e0f9bf3-8bae-46ef-b21b-bfdb0cd2976b",
        "colab": {
          "base_uri": "https://localhost:8080/",
          "height": 34
        }
      },
      "cell_type": "code",
      "source": [
        "mnist.train.images.shape"
      ],
      "execution_count": 5,
      "outputs": [
        {
          "output_type": "execute_result",
          "data": {
            "text/plain": [
              "(55000, 784)"
            ]
          },
          "metadata": {
            "tags": []
          },
          "execution_count": 5
        }
      ]
    },
    {
      "metadata": {
        "colab_type": "text",
        "id": "cH12-aGK_251"
      },
      "cell_type": "markdown",
      "source": [
        "## Training"
      ]
    },
    {
      "metadata": {
        "colab_type": "text",
        "id": "R_v5jsuE_4qv"
      },
      "cell_type": "markdown",
      "source": [
        "### Define tensors for the model"
      ]
    },
    {
      "metadata": {
        "colab_type": "code",
        "id": "owhYYlNiW-cc",
        "colab": {}
      },
      "cell_type": "code",
      "source": [
        "# Build neural network\n",
        "X = tf.placeholder(dtype='float', shape=[None, 784], name='X')\n",
        "y = tf.placeholder(dtype='float', shape=[None, 10], name='y')\n",
        "\n",
        "cX = tf.placeholder(dtype='float', shape=[None, 784], name='cX')\n",
        "cy = tf.placeholder(dtype='float', shape=[None, 10], name='cy')"
      ],
      "execution_count": 0,
      "outputs": []
    },
    {
      "metadata": {
        "colab_type": "text",
        "id": "kSjMpgSF_oq8"
      },
      "cell_type": "markdown",
      "source": [
        "#### Initialize weight and bias matrix with He Initializer (mean=0.0, stddev=sqrt(2/#in_nodes))"
      ]
    },
    {
      "metadata": {
        "colab_type": "code",
        "id": "dtCZY6fu_ntA",
        "outputId": "afeedd4c-2122-4381-ca64-aac0faa02ae4",
        "colab": {
          "base_uri": "https://localhost:8080/",
          "height": 87
        }
      },
      "cell_type": "code",
      "source": [
        "weights = {\n",
        "    'w1': tf.Variable(dtype='float', initial_value=tf.random_normal(shape=[784, 1024], mean=0.0, stddev=np.sqrt(2/784)), name='w1'),\n",
        "    'w2': tf.Variable(dtype='float', initial_value=tf.random_normal(shape=[1024, 1024], mean=0.0, stddev=np.sqrt(2/1024)), name='w2'),\n",
        "    'w3': tf.Variable(dtype='float', initial_value=tf.random_normal(shape=[1024, 1024], mean=0.0, stddev=np.sqrt(2/1024)), name='w3'),\n",
        "    'w4': tf.Variable(dtype='float', initial_value=tf.random_normal(shape=[1024, 1024], mean=0.0, stddev=np.sqrt(2/1024)), name='w4'),\n",
        "    'w5': tf.Variable(dtype='float', initial_value=tf.random_normal(shape=[1024, 1024], mean=0.0, stddev=np.sqrt(2/1024)), name='w5'),\n",
        "    'wout': tf.Variable(dtype='float', initial_value=tf.random_normal(shape=[1024, 10], mean=0.0, stddev=np.sqrt(2/1024)), name='wout'),\n",
        "}\n",
        "\n",
        "bias_initial_value = 0.01\n",
        "biases = {\n",
        "    'b1': tf.Variable(initial_value=tf.ones([1024]) * bias_initial_value, name='b1'),\n",
        "    'b2': tf.Variable(initial_value=tf.ones([1024]) * bias_initial_value, name='b2'),\n",
        "    'b3': tf.Variable(initial_value=tf.ones([1024]) * bias_initial_value, name='b3'),\n",
        "    'b4': tf.Variable(initial_value=tf.ones([1024]) * bias_initial_value, name='b4'),\n",
        "    'b5': tf.Variable(initial_value=tf.ones([1024]) * bias_initial_value, name='b5'),\n",
        "    'bout': tf.Variable(initial_value=tf.ones([10]) * bias_initial_value, name='bout')\n",
        "}"
      ],
      "execution_count": 7,
      "outputs": [
        {
          "output_type": "stream",
          "text": [
            "WARNING:tensorflow:From /usr/local/lib/python3.6/dist-packages/tensorflow/python/framework/op_def_library.py:263: colocate_with (from tensorflow.python.framework.ops) is deprecated and will be removed in a future version.\n",
            "Instructions for updating:\n",
            "Colocations handled automatically by placer.\n"
          ],
          "name": "stdout"
        }
      ]
    },
    {
      "metadata": {
        "id": "QLmASQ_xcsUT",
        "colab_type": "code",
        "colab": {}
      },
      "cell_type": "code",
      "source": [
        ""
      ],
      "execution_count": 0,
      "outputs": []
    },
    {
      "metadata": {
        "id": "CR2_O0LuUD5u",
        "colab_type": "code",
        "colab": {}
      },
      "cell_type": "code",
      "source": [
        "limit = 200"
      ],
      "execution_count": 0,
      "outputs": []
    },
    {
      "metadata": {
        "id": "YmZ-7Aa_TDuB",
        "colab_type": "code",
        "colab": {}
      },
      "cell_type": "code",
      "source": [
        "cweights = {\n",
        "    'w1_u': tf.Variable(dtype='float', initial_value=tf.random_normal(shape=[784, limit], mean=0.0, stddev=np.sqrt(2/784)), name='cw1_u'),\n",
        "    'w1_svt': tf.Variable(dtype='float', initial_value=tf.random_normal(shape=[limit, 1024], mean=0.0, stddev=np.sqrt(2/limit)), name='cw1_svt'),\n",
        "    'w2_u': tf.Variable(dtype='float', initial_value=tf.random_normal(shape=[1024, limit], mean=0.0, stddev=np.sqrt(2/1024)), name='cw2_u'),\n",
        "    'w2_svt': tf.Variable(dtype='float', initial_value=tf.random_normal(shape=[limit, 1024], mean=0.0, stddev=np.sqrt(2/limit)), name='cw2_svt'),\n",
        "    'w3_u': tf.Variable(dtype='float', initial_value=tf.random_normal(shape=[1024, limit], mean=0.0, stddev=np.sqrt(2/1024)), name='cw3_u'),\n",
        "    'w3_svt': tf.Variable(dtype='float', initial_value=tf.random_normal(shape=[limit, 1024], mean=0.0, stddev=np.sqrt(2/limit)), name='cw3_svt'),\n",
        "    'w4_u': tf.Variable(dtype='float', initial_value=tf.random_normal(shape=[1024, limit], mean=0.0, stddev=np.sqrt(2/1024)), name='cw4_u'),\n",
        "    'w4_svt': tf.Variable(dtype='float', initial_value=tf.random_normal(shape=[limit, 1024], mean=0.0, stddev=np.sqrt(2/limit)), name='cw4_svt'),\n",
        "    'w5_u': tf.Variable(dtype='float', initial_value=tf.random_normal(shape=[1024, limit], mean=0.0, stddev=np.sqrt(2/1024)), name='cw5_u'),\n",
        "    'w5_svt': tf.Variable(dtype='float', initial_value=tf.random_normal(shape=[limit, 1024], mean=0.0, stddev=np.sqrt(2/limit)), name='cw5_svt'),\n",
        "    'cwout': tf.Variable(dtype='float', initial_value=tf.random_normal(shape=[1024, 10], mean=0.0, stddev=np.sqrt(2/1024)), name='cwout'),\n",
        "}\n",
        "\n",
        "cbiases = {\n",
        "    'b1': tf.Variable(initial_value=tf.ones([1024]), name='cb1'),\n",
        "    'b2': tf.Variable(initial_value=tf.ones([1024]), name='cb2'),\n",
        "    'b3': tf.Variable(initial_value=tf.ones([1024]), name='cb3'),\n",
        "    'b4': tf.Variable(initial_value=tf.ones([1024]), name='cb4'),\n",
        "    'b5': tf.Variable(initial_value=tf.ones([1024]), name='cb5'),\n",
        "    'cbout': tf.Variable(initial_value=tf.ones([10]), name='cbout')\n",
        "}\n",
        "\n",
        "cz1 = tf.add(tf.matmul(tf.matmul(cX, cweights['w1_u']), cweights['w1_svt']), cbiases['b1'])\n",
        "ca1 = tf.nn.relu(cz1)\n",
        "\n",
        "cz2 = tf.add(tf.matmul(tf.matmul(ca1, cweights['w2_u']), cweights['w2_svt']), cbiases['b2'])\n",
        "ca2 = tf.nn.relu(cz2)\n",
        "\n",
        "cz3 = tf.add(tf.matmul(tf.matmul(ca2, cweights['w3_u']), cweights['w3_svt']), cbiases['b3'])\n",
        "ca3 = tf.nn.relu(cz3)\n",
        "\n",
        "cz4 = tf.add(tf.matmul(tf.matmul(ca3, cweights['w4_u']), cweights['w4_svt']), cbiases['b4'])\n",
        "ca4 = tf.nn.relu(cz4)\n",
        "\n",
        "cz5 = tf.add(tf.matmul(tf.matmul(ca4, cweights['w5_u']), cweights['w5_svt']), cbiases['b5'])\n",
        "ca5 = tf.nn.relu(cz5)\n",
        "\n",
        "clogits = tf.add(tf.matmul(ca5, cweights['cwout']), cbiases['cbout'])\n",
        "coutput = tf.nn.softmax(logits=clogits)\n",
        "\n",
        "# losses\n",
        "#   cregularizers = 0\n",
        "#   for wt in cweights:\n",
        "#     cregularizers += tf.nn.l2_loss(cweights[wt])\n",
        "\n",
        "closs = tf.reduce_mean(tf.nn.softmax_cross_entropy_with_logits_v2(logits=clogits, labels=cy)) #\\\n",
        "#                   + beta * cregularizers)\n",
        "\n",
        "ctrain = tf.train.AdamOptimizer(learning_rate=0.0002).minimize(loss=closs)\n",
        "\n",
        "# calculate accuracy\n",
        "ccorrect = tf.equal(tf.argmax(input=clogits, axis=1), tf.argmax(input=cy, axis=1))\n",
        "caccuracy = tf.reduce_mean(tf.cast(dtype='float', x=ccorrect))"
      ],
      "execution_count": 0,
      "outputs": []
    },
    {
      "metadata": {
        "colab_type": "text",
        "id": "GFiak8CdAArq"
      },
      "cell_type": "markdown",
      "source": [
        "#### Plug everything together"
      ]
    },
    {
      "metadata": {
        "colab_type": "code",
        "id": "aUexXP1cxQut",
        "colab": {}
      },
      "cell_type": "code",
      "source": [
        "# hyper-parameters\n",
        "beta = 0.001\n",
        "learning_rate = 0.0002\n",
        "\n",
        "z1 = tf.add(tf.matmul(X, weights['w1']), biases['b1'])\n",
        "a1 = tf.nn.relu(z1)\n",
        "\n",
        "z2 = tf.add(tf.matmul(a1, weights['w2']), biases['b2'])\n",
        "a2 = tf.nn.relu(z2)\n",
        "\n",
        "z3 = tf.add(tf.matmul(a2, weights['w3']), biases['b3'])\n",
        "a3 = tf.nn.relu(z3)\n",
        "\n",
        "z4 = tf.add(tf.matmul(a3, weights['w4']), biases['b4'])\n",
        "a4 = tf.nn.relu(z4)\n",
        "\n",
        "z5 = tf.add(tf.matmul(a4, weights['w5']), biases['b5'])\n",
        "a5 = tf.nn.relu(z5)\n",
        "\n",
        "logits = tf.add(tf.matmul(a5, weights['wout']), biases['bout'])\n",
        "output = tf.nn.softmax(logits=logits)\n",
        "\n",
        "# losses\n",
        "regularizers = tf.nn.l2_loss(weights['w1']) + tf.nn.l2_loss(weights['w2']) + tf.nn.l2_loss(weights['w3']) \\\n",
        "                + tf.nn.l2_loss(weights['w4']) + tf.nn.l2_loss(weights['w5']) + tf.nn.l2_loss(weights['wout'])\n",
        "loss = tf.reduce_mean(tf.nn.softmax_cross_entropy_with_logits_v2(logits=logits, labels=y) \\\n",
        "                + beta * regularizers)\n",
        "\n",
        "train = tf.train.AdamOptimizer(learning_rate=learning_rate).minimize(loss=loss)\n",
        "\n",
        "# calculate accuracy\n",
        "correct = tf.equal(tf.argmax(input=logits, axis=1), tf.argmax(input=y, axis=1))\n",
        "accuracy = tf.reduce_mean(tf.cast(dtype='float', x=correct))\n",
        "\n",
        "init = tf.global_variables_initializer()"
      ],
      "execution_count": 0,
      "outputs": []
    },
    {
      "metadata": {
        "colab_type": "code",
        "id": "RQGGt0fz0Uyj",
        "outputId": "3864facc-568a-4963-d181-7b607fb43f3f",
        "colab": {
          "base_uri": "https://localhost:8080/",
          "height": 218
        }
      },
      "cell_type": "code",
      "source": [
        "batch_size = 1000\n",
        "num_epochs = 60\n",
        "display_step = 20\n",
        "log_step = 10\n",
        "\n",
        "total_samples = mnist.train.images.shape[0]\n",
        "num_batches = int(math.ceil(total_samples/batch_size))\n",
        "\n",
        "# these lists will be used to display accuracy/loss graphs over epochs\n",
        "train_acc, test_acc = [], []\n",
        "train_loss, test_loss = [], []\n",
        "xticks = []\n",
        "\n",
        "sess = tf.Session()\n",
        "  \n",
        "sess.run(init)\n",
        "for epoch in range(1, num_epochs + 1):\n",
        "  for itr in range(num_batches):\n",
        "    batch_x, batch_y = mnist.train.next_batch(batch_size=batch_size)\n",
        "    sess.run(train, feed_dict={X: batch_x, y: batch_y})\n",
        "    \n",
        "  if epoch % log_step == 0:\n",
        "    trls, trac = sess.run([loss, accuracy], feed_dict={X: batch_x, y: batch_y})\n",
        "    tsls, tsac = sess.run([loss, accuracy], feed_dict={X: mnist.test.images, y: mnist.test.labels})\n",
        "    \n",
        "    train_acc.append(trac)\n",
        "    test_acc.append(tsac)\n",
        "    train_loss.append(trls)\n",
        "    test_loss.append(tsls)\n",
        "    xticks.append(epoch)\n",
        "    \n",
        "  if epoch % display_step == 0:\n",
        "    print(f'Epoch:{epoch}')\n",
        "    print(f'Train set:\\tLoss:{trls:.4f},\\tAccuracy:{trac:.4f}')\n",
        "    print(f'Test set:\\tLoss:{tsls:.4f},\\tAccuracy:{tsac:.4f}\\n')"
      ],
      "execution_count": 11,
      "outputs": [
        {
          "output_type": "stream",
          "text": [
            "Epoch:20\n",
            "Train set:\tLoss:0.9075,\tAccuracy:0.9990\n",
            "Test set:\tLoss:0.9590,\tAccuracy:0.9795\n",
            "\n",
            "Epoch:40\n",
            "Train set:\tLoss:0.2786,\tAccuracy:0.9990\n",
            "Test set:\tLoss:0.3336,\tAccuracy:0.9809\n",
            "\n",
            "Epoch:60\n",
            "Train set:\tLoss:0.1332,\tAccuracy:1.0000\n",
            "Test set:\tLoss:0.1970,\tAccuracy:0.9786\n",
            "\n"
          ],
          "name": "stdout"
        }
      ]
    },
    {
      "metadata": {
        "colab_type": "code",
        "id": "XwsA30Y05q4i",
        "outputId": "b2a726ee-ae4b-4d7a-aebe-0dc59beb62d3",
        "colab": {
          "base_uri": "https://localhost:8080/",
          "height": 366
        }
      },
      "cell_type": "code",
      "source": [
        "plt.figure(figsize=(10, 5))\n",
        "\n",
        "plt.subplot(1, 2, 1)\n",
        "plt.plot(xticks, train_acc)\n",
        "plt.plot(xticks, test_acc)\n",
        "plt.title('Accuracy by epochs')\n",
        "plt.xlabel('Epochs')\n",
        "plt.ylabel('Accuracy')\n",
        "plt.legend(['Training accuracy', 'Test accuracy'])\n",
        "\n",
        "plt.subplot(1, 2, 2)\n",
        "plt.plot(xticks, train_loss)\n",
        "plt.plot(xticks, test_loss)\n",
        "plt.title('Loss by epochs')\n",
        "plt.xlabel('Epochs')\n",
        "plt.ylabel('Loss')\n",
        "plt.legend(['Training loss', 'Test loss'])"
      ],
      "execution_count": 12,
      "outputs": [
        {
          "output_type": "execute_result",
          "data": {
            "text/plain": [
              "<matplotlib.legend.Legend at 0x7f5c9071d358>"
            ]
          },
          "metadata": {
            "tags": []
          },
          "execution_count": 12
        },
        {
          "output_type": "display_data",
          "data": {
            "image/png": "[encoded data removed]",
            "text/plain": [
              "<Figure size 720x360 with 2 Axes>"
            ]
          },
          "metadata": {
            "tags": []
          }
        }
      ]
    },
    {
      "metadata": {
        "id": "s5lho4_Ud6H3",
        "colab_type": "text"
      },
      "cell_type": "markdown",
      "source": [
        "### Store values of weights"
      ]
    },
    {
      "metadata": {
        "id": "hLya1W7ueJi7",
        "colab_type": "code",
        "colab": {}
      },
      "cell_type": "code",
      "source": [
        "weights_val = {}\n",
        "for w in ['w1', 'w2', 'w3', 'w4', 'w5', 'wout']:\n",
        "  weights_val[w] = sess.run(weights[w])\n",
        "  \n",
        "biases_val = {}\n",
        "for b in ['b1', 'b2', 'b3', 'b4', 'b5', 'bout']:\n",
        "  biases_val[b] = sess.run(biases[b])"
      ],
      "execution_count": 0,
      "outputs": []
    },
    {
      "metadata": {
        "id": "W16X65V61KES",
        "colab_type": "code",
        "colab": {}
      },
      "cell_type": "code",
      "source": [
        "def compress_matrix(mat, limit=None):\n",
        "  u, s, vt = np.linalg.svd(mat)\n",
        "\n",
        "  if limit is None:\n",
        "    sigma = np.zeros((mat.shape[0], mat.shape[1]))\n",
        "    sigma[:s.shape[0], :s.shape[0]] = np.diag(s)\n",
        "    return np.dot(u, np.dot(sigma, vt))    \n",
        "  \n",
        "  sigma = np.zeros((limit, limit))\n",
        "  sigma[:limit, :limit] = np.diag(s[:limit])\n",
        "  return np.dot(u[:, :limit], np.dot(sigma, vt[:limit, :]))"
      ],
      "execution_count": 0,
      "outputs": []
    },
    {
      "metadata": {
        "id": "NhCYnlnLz0z9",
        "colab_type": "code",
        "colab": {}
      },
      "cell_type": "code",
      "source": [
        "def run_compressed(sess, limit=None):\n",
        "  compressed_w1 = compress_matrix(weights_val['w1'], limit)\n",
        "  sess.run(weights['w1'].assign(compressed_w1))\n",
        "  \n",
        "  compressed_w2 = compress_matrix(weights_val['w2'], limit)\n",
        "  sess.run(weights['w2'].assign(compressed_w2))\n",
        "  \n",
        "  compressed_w3 = compress_matrix(weights_val['w3'], limit)\n",
        "  sess.run(weights['w3'].assign(compressed_w3))\n",
        "  \n",
        "  compressed_w4 = compress_matrix(weights_val['w4'], limit)\n",
        "  sess.run(weights['w4'].assign(compressed_w4))\n",
        "  \n",
        "  compressed_w5 = compress_matrix(weights_val['w5'], limit)\n",
        "  sess.run(weights['w5'].assign(compressed_w5))\n",
        "  \n",
        "  tsls, tsac = sess.run([loss, accuracy], feed_dict={X: mnist.test.images, y: mnist.test.labels})\n",
        "  return tsls, tsac"
      ],
      "execution_count": 0,
      "outputs": []
    },
    {
      "metadata": {
        "id": "979kNOq8z0_Z",
        "colab_type": "code",
        "outputId": "213c6831-0729-4519-e150-e3b6b8befb82",
        "collapsed": true,
        "colab": {
          "base_uri": "https://localhost:8080/",
          "height": 118
        }
      },
      "cell_type": "code",
      "source": [
        "for limit in [10, 20, 50, 100, 200, None]:\n",
        "  tsls, tsac = run_compressed(sess, limit)\n",
        "  print('Limit: {}\\tTest loss: {:.5f}\\tTest accuracy: {:.5f}'.format(limit, tsls, tsac))"
      ],
      "execution_count": 16,
      "outputs": [
        {
          "output_type": "stream",
          "text": [
            "Limit: 10\tTest loss: 2.15991\tTest accuracy: 0.54960\n",
            "Limit: 20\tTest loss: 1.07082\tTest accuracy: 0.76090\n",
            "Limit: 50\tTest loss: 0.35184\tTest accuracy: 0.92540\n",
            "Limit: 100\tTest loss: 0.21283\tTest accuracy: 0.96930\n",
            "Limit: 200\tTest loss: 0.19788\tTest accuracy: 0.97630\n",
            "Limit: None\tTest loss: 0.19702\tTest accuracy: 0.97860\n"
          ],
          "name": "stdout"
        }
      ]
    },
    {
      "metadata": {
        "id": "xxLJCQozK9Xi",
        "colab_type": "code",
        "colab": {}
      },
      "cell_type": "code",
      "source": [
        "def get_components(mat, limit=None):\n",
        "  u, s, vt = np.linalg.svd(mat)\n",
        "\n",
        "  if limit is None:\n",
        "    sigma = np.zeros((mat.shape[0], mat.shape[1]))\n",
        "    sigma[:s.shape[0], :s.shape[0]] = np.diag(s)\n",
        "    return u, np.dot(sigma, vt) \n",
        "  \n",
        "  sigma = np.zeros((limit, limit))\n",
        "  sigma[:limit, :limit] = np.diag(s[:limit])\n",
        "  return u[:, :limit], np.dot(sigma, vt[:limit, :])"
      ],
      "execution_count": 0,
      "outputs": []
    },
    {
      "metadata": {
        "id": "LU4CZY6pz0QL",
        "colab_type": "text"
      },
      "cell_type": "markdown",
      "source": [
        "### Assign values calculated by SVD to these layers"
      ]
    },
    {
      "metadata": {
        "id": "UhcXSgxdz0H_",
        "colab_type": "code",
        "colab": {
          "base_uri": "https://localhost:8080/",
          "height": 50
        },
        "outputId": "f5eb4c3f-64f9-4b03-b0b9-0bd01aeaea80"
      },
      "cell_type": "code",
      "source": [
        "limit = 200\n",
        "\n",
        "w1_u_val, w1_svt_val = get_components(weights_val['w1'], limit)\n",
        "sess.run(cweights['w1_u'].assign(w1_u_val))\n",
        "sess.run(cweights['w1_svt'].assign(w1_svt_val))\n",
        "\n",
        "w2_u_val, w2_svt_val = get_components(weights_val['w2'], limit)\n",
        "sess.run(cweights['w2_u'].assign(w2_u_val))\n",
        "sess.run(cweights['w2_svt'].assign(w2_svt_val))\n",
        "\n",
        "w3_u_val, w3_svt_val = get_components(weights_val['w3'], limit)\n",
        "sess.run(cweights['w3_u'].assign(w3_u_val))\n",
        "sess.run(cweights['w3_svt'].assign(w3_svt_val))\n",
        "\n",
        "w4_u_val, w4_svt_val = get_components(weights_val['w4'], limit)\n",
        "sess.run(cweights['w4_u'].assign(w4_u_val))\n",
        "sess.run(cweights['w4_svt'].assign(w4_svt_val))\n",
        "\n",
        "w5_u_val, w5_svt_val = get_components(weights_val['w5'], limit)\n",
        "sess.run(cweights['w5_u'].assign(w5_u_val))\n",
        "sess.run(cweights['w5_svt'].assign(w5_svt_val))\n",
        "\n",
        "\n",
        "sess.run(cbiases['b1'].assign(biases_val['b1']))\n",
        "sess.run(cbiases['b2'].assign(biases_val['b2']))\n",
        "sess.run(cbiases['b3'].assign(biases_val['b3']))\n",
        "sess.run(cbiases['b4'].assign(biases_val['b4']))\n",
        "sess.run(cbiases['b5'].assign(biases_val['b5']))"
      ],
      "execution_count": 18,
      "outputs": [
        {
          "output_type": "execute_result",
          "data": {
            "text/plain": [
              "array([ 0.02619826,  0.01762491,  0.0229353 , ...,  0.02150182,\n",
              "        0.01933078, -0.00104192], dtype=float32)"
            ]
          },
          "metadata": {
            "tags": []
          },
          "execution_count": 18
        }
      ]
    },
    {
      "metadata": {
        "id": "-C09biTdPdjH",
        "colab_type": "code",
        "colab": {
          "base_uri": "https://localhost:8080/",
          "height": 2362
        },
        "outputId": "1e2a75fa-7a08-4b52-f7f8-ec29dfa4ac29"
      },
      "cell_type": "code",
      "source": [
        "batch_size = 1000\n",
        "num_epochs = 60\n",
        "display_step = 20\n",
        "log_step = 10\n",
        "\n",
        "total_samples = mnist.train.images.shape[0]\n",
        "num_batches = int(math.ceil(total_samples/batch_size))\n",
        "\n",
        "# these lists will be used to display accuracy/loss graphs over epochs\n",
        "train_acc, test_acc = [], []\n",
        "train_loss, test_loss = [], []\n",
        "xticks = []\n",
        "\n",
        "sess = tf.Session()\n",
        "  \n",
        "for epoch in range(1, num_epochs + 1):\n",
        "  for itr in range(num_batches):\n",
        "    batch_x, batch_y = mnist.train.next_batch(batch_size=batch_size)\n",
        "    sess.run(ctrain, feed_dict={cX: batch_x, cy: batch_y})\n",
        "    \n",
        "  if epoch % log_step == 0:\n",
        "    trls, trac = sess.run([closs, caccuracy], feed_dict={cX: batch_x, cy: batch_y})\n",
        "    tsls, tsac = sess.run([closs, caccuracy], feed_dict={cX: mnist.test.images, cy: mnist.test.labels})\n",
        "    \n",
        "    train_acc.append(trac)\n",
        "    test_acc.append(tsac)\n",
        "    train_loss.append(trls)\n",
        "    test_loss.append(tsls)\n",
        "    xticks.append(epoch)\n",
        "    \n",
        "  if epoch % display_step == 0:\n",
        "    print(f'Epoch:{epoch}')\n",
        "    print(f'Train set:\\tLoss:{trls:.4f},\\tAccuracy:{trac:.4f}')\n",
        "    print(f'Test set:\\tLoss:{tsls:.4f},\\tAccuracy:{tsac:.4f}\\n')"
      ],
      "execution_count": 19,
      "outputs": [
        {
          "output_type": "error",
          "ename": "FailedPreconditionError",
          "evalue": "ignored",
          "traceback": [
            "\u001b[0;31m---------------------------------------------------------------------------\u001b[0m",
            "\u001b[0;31mFailedPreconditionError\u001b[0m                   Traceback (most recent call last)",
            "\u001b[0;32m/usr/local/lib/python3.6/dist-packages/tensorflow/python/client/session.py\u001b[0m in \u001b[0;36m_do_call\u001b[0;34m(self, fn, *args)\u001b[0m\n\u001b[1;32m   1333\u001b[0m     \u001b[0;32mtry\u001b[0m\u001b[0;34m:\u001b[0m\u001b[0;34m\u001b[0m\u001b[0;34m\u001b[0m\u001b[0m\n\u001b[0;32m-> 1334\u001b[0;31m       \u001b[0;32mreturn\u001b[0m \u001b[0mfn\u001b[0m\u001b[0;34m(\u001b[0m\u001b[0;34m*\u001b[0m\u001b[0margs\u001b[0m\u001b[0;34m)\u001b[0m\u001b[0;34m\u001b[0m\u001b[0;34m\u001b[0m\u001b[0m\n\u001b[0m\u001b[1;32m   1335\u001b[0m     \u001b[0;32mexcept\u001b[0m \u001b[0merrors\u001b[0m\u001b[0;34m.\u001b[0m\u001b[0mOpError\u001b[0m \u001b[0;32mas\u001b[0m \u001b[0me\u001b[0m\u001b[0;34m:\u001b[0m\u001b[0;34m\u001b[0m\u001b[0;34m\u001b[0m\u001b[0m\n",
            "\u001b[0;32m/usr/local/lib/python3.6/dist-packages/tensorflow/python/client/session.py\u001b[0m in \u001b[0;36m_run_fn\u001b[0;34m(feed_dict, fetch_list, target_list, options, run_metadata)\u001b[0m\n\u001b[1;32m   1318\u001b[0m       return self._call_tf_sessionrun(\n\u001b[0;32m-> 1319\u001b[0;31m           options, feed_dict, fetch_list, target_list, run_metadata)\n\u001b[0m\u001b[1;32m   1320\u001b[0m \u001b[0;34m\u001b[0m\u001b[0m\n",
            "\u001b[0;32m/usr/local/lib/python3.6/dist-packages/tensorflow/python/client/session.py\u001b[0m in \u001b[0;36m_call_tf_sessionrun\u001b[0;34m(self, options, feed_dict, fetch_list, target_list, run_metadata)\u001b[0m\n\u001b[1;32m   1406\u001b[0m         \u001b[0mself\u001b[0m\u001b[0;34m.\u001b[0m\u001b[0m_session\u001b[0m\u001b[0;34m,\u001b[0m \u001b[0moptions\u001b[0m\u001b[0;34m,\u001b[0m \u001b[0mfeed_dict\u001b[0m\u001b[0;34m,\u001b[0m \u001b[0mfetch_list\u001b[0m\u001b[0;34m,\u001b[0m \u001b[0mtarget_list\u001b[0m\u001b[0;34m,\u001b[0m\u001b[0;34m\u001b[0m\u001b[0;34m\u001b[0m\u001b[0m\n\u001b[0;32m-> 1407\u001b[0;31m         run_metadata)\n\u001b[0m\u001b[1;32m   1408\u001b[0m \u001b[0;34m\u001b[0m\u001b[0m\n",
            "\u001b[0;31mFailedPreconditionError\u001b[0m: Attempting to use uninitialized value cwout\n\t [[{{node cwout/read}}]]",
            "\nDuring handling of the above exception, another exception occurred:\n",
            "\u001b[0;31mFailedPreconditionError\u001b[0m                   Traceback (most recent call last)",
            "\u001b[0;32m<ipython-input-19-b7a3b4337d8c>\u001b[0m in \u001b[0;36m<module>\u001b[0;34m()\u001b[0m\n\u001b[1;32m     17\u001b[0m   \u001b[0;32mfor\u001b[0m \u001b[0mitr\u001b[0m \u001b[0;32min\u001b[0m \u001b[0mrange\u001b[0m\u001b[0;34m(\u001b[0m\u001b[0mnum_batches\u001b[0m\u001b[0;34m)\u001b[0m\u001b[0;34m:\u001b[0m\u001b[0;34m\u001b[0m\u001b[0;34m\u001b[0m\u001b[0m\n\u001b[1;32m     18\u001b[0m     \u001b[0mbatch_x\u001b[0m\u001b[0;34m,\u001b[0m \u001b[0mbatch_y\u001b[0m \u001b[0;34m=\u001b[0m \u001b[0mmnist\u001b[0m\u001b[0;34m.\u001b[0m\u001b[0mtrain\u001b[0m\u001b[0;34m.\u001b[0m\u001b[0mnext_batch\u001b[0m\u001b[0;34m(\u001b[0m\u001b[0mbatch_size\u001b[0m\u001b[0;34m=\u001b[0m\u001b[0mbatch_size\u001b[0m\u001b[0;34m)\u001b[0m\u001b[0;34m\u001b[0m\u001b[0;34m\u001b[0m\u001b[0m\n\u001b[0;32m---> 19\u001b[0;31m     \u001b[0msess\u001b[0m\u001b[0;34m.\u001b[0m\u001b[0mrun\u001b[0m\u001b[0;34m(\u001b[0m\u001b[0mctrain\u001b[0m\u001b[0;34m,\u001b[0m \u001b[0mfeed_dict\u001b[0m\u001b[0;34m=\u001b[0m\u001b[0;34m{\u001b[0m\u001b[0mcX\u001b[0m\u001b[0;34m:\u001b[0m \u001b[0mbatch_x\u001b[0m\u001b[0;34m,\u001b[0m \u001b[0mcy\u001b[0m\u001b[0;34m:\u001b[0m \u001b[0mbatch_y\u001b[0m\u001b[0;34m}\u001b[0m\u001b[0;34m)\u001b[0m\u001b[0;34m\u001b[0m\u001b[0;34m\u001b[0m\u001b[0m\n\u001b[0m\u001b[1;32m     20\u001b[0m \u001b[0;34m\u001b[0m\u001b[0m\n\u001b[1;32m     21\u001b[0m   \u001b[0;32mif\u001b[0m \u001b[0mepoch\u001b[0m \u001b[0;34m%\u001b[0m \u001b[0mlog_step\u001b[0m \u001b[0;34m==\u001b[0m \u001b[0;36m0\u001b[0m\u001b[0;34m:\u001b[0m\u001b[0;34m\u001b[0m\u001b[0;34m\u001b[0m\u001b[0m\n",
            "\u001b[0;32m/usr/local/lib/python3.6/dist-packages/tensorflow/python/client/session.py\u001b[0m in \u001b[0;36mrun\u001b[0;34m(self, fetches, feed_dict, options, run_metadata)\u001b[0m\n\u001b[1;32m    927\u001b[0m     \u001b[0;32mtry\u001b[0m\u001b[0;34m:\u001b[0m\u001b[0;34m\u001b[0m\u001b[0;34m\u001b[0m\u001b[0m\n\u001b[1;32m    928\u001b[0m       result = self._run(None, fetches, feed_dict, options_ptr,\n\u001b[0;32m--> 929\u001b[0;31m                          run_metadata_ptr)\n\u001b[0m\u001b[1;32m    930\u001b[0m       \u001b[0;32mif\u001b[0m \u001b[0mrun_metadata\u001b[0m\u001b[0;34m:\u001b[0m\u001b[0;34m\u001b[0m\u001b[0;34m\u001b[0m\u001b[0m\n\u001b[1;32m    931\u001b[0m         \u001b[0mproto_data\u001b[0m \u001b[0;34m=\u001b[0m \u001b[0mtf_session\u001b[0m\u001b[0;34m.\u001b[0m\u001b[0mTF_GetBuffer\u001b[0m\u001b[0;34m(\u001b[0m\u001b[0mrun_metadata_ptr\u001b[0m\u001b[0;34m)\u001b[0m\u001b[0;34m\u001b[0m\u001b[0;34m\u001b[0m\u001b[0m\n",
            "\u001b[0;32m/usr/local/lib/python3.6/dist-packages/tensorflow/python/client/session.py\u001b[0m in \u001b[0;36m_run\u001b[0;34m(self, handle, fetches, feed_dict, options, run_metadata)\u001b[0m\n\u001b[1;32m   1150\u001b[0m     \u001b[0;32mif\u001b[0m \u001b[0mfinal_fetches\u001b[0m \u001b[0;32mor\u001b[0m \u001b[0mfinal_targets\u001b[0m \u001b[0;32mor\u001b[0m \u001b[0;34m(\u001b[0m\u001b[0mhandle\u001b[0m \u001b[0;32mand\u001b[0m \u001b[0mfeed_dict_tensor\u001b[0m\u001b[0;34m)\u001b[0m\u001b[0;34m:\u001b[0m\u001b[0;34m\u001b[0m\u001b[0;34m\u001b[0m\u001b[0m\n\u001b[1;32m   1151\u001b[0m       results = self._do_run(handle, final_targets, final_fetches,\n\u001b[0;32m-> 1152\u001b[0;31m                              feed_dict_tensor, options, run_metadata)\n\u001b[0m\u001b[1;32m   1153\u001b[0m     \u001b[0;32melse\u001b[0m\u001b[0;34m:\u001b[0m\u001b[0;34m\u001b[0m\u001b[0;34m\u001b[0m\u001b[0m\n\u001b[1;32m   1154\u001b[0m       \u001b[0mresults\u001b[0m \u001b[0;34m=\u001b[0m \u001b[0;34m[\u001b[0m\u001b[0;34m]\u001b[0m\u001b[0;34m\u001b[0m\u001b[0;34m\u001b[0m\u001b[0m\n",
            "\u001b[0;32m/usr/local/lib/python3.6/dist-packages/tensorflow/python/client/session.py\u001b[0m in \u001b[0;36m_do_run\u001b[0;34m(self, handle, target_list, fetch_list, feed_dict, options, run_metadata)\u001b[0m\n\u001b[1;32m   1326\u001b[0m     \u001b[0;32mif\u001b[0m \u001b[0mhandle\u001b[0m \u001b[0;32mis\u001b[0m \u001b[0;32mNone\u001b[0m\u001b[0;34m:\u001b[0m\u001b[0;34m\u001b[0m\u001b[0;34m\u001b[0m\u001b[0m\n\u001b[1;32m   1327\u001b[0m       return self._do_call(_run_fn, feeds, fetches, targets, options,\n\u001b[0;32m-> 1328\u001b[0;31m                            run_metadata)\n\u001b[0m\u001b[1;32m   1329\u001b[0m     \u001b[0;32melse\u001b[0m\u001b[0;34m:\u001b[0m\u001b[0;34m\u001b[0m\u001b[0;34m\u001b[0m\u001b[0m\n\u001b[1;32m   1330\u001b[0m       \u001b[0;32mreturn\u001b[0m \u001b[0mself\u001b[0m\u001b[0;34m.\u001b[0m\u001b[0m_do_call\u001b[0m\u001b[0;34m(\u001b[0m\u001b[0m_prun_fn\u001b[0m\u001b[0;34m,\u001b[0m \u001b[0mhandle\u001b[0m\u001b[0;34m,\u001b[0m \u001b[0mfeeds\u001b[0m\u001b[0;34m,\u001b[0m \u001b[0mfetches\u001b[0m\u001b[0;34m)\u001b[0m\u001b[0;34m\u001b[0m\u001b[0;34m\u001b[0m\u001b[0m\n",
            "\u001b[0;32m/usr/local/lib/python3.6/dist-packages/tensorflow/python/client/session.py\u001b[0m in \u001b[0;36m_do_call\u001b[0;34m(self, fn, *args)\u001b[0m\n\u001b[1;32m   1346\u001b[0m           \u001b[0;32mpass\u001b[0m\u001b[0;34m\u001b[0m\u001b[0;34m\u001b[0m\u001b[0m\n\u001b[1;32m   1347\u001b[0m       \u001b[0mmessage\u001b[0m \u001b[0;34m=\u001b[0m \u001b[0merror_interpolation\u001b[0m\u001b[0;34m.\u001b[0m\u001b[0minterpolate\u001b[0m\u001b[0;34m(\u001b[0m\u001b[0mmessage\u001b[0m\u001b[0;34m,\u001b[0m \u001b[0mself\u001b[0m\u001b[0;34m.\u001b[0m\u001b[0m_graph\u001b[0m\u001b[0;34m)\u001b[0m\u001b[0;34m\u001b[0m\u001b[0;34m\u001b[0m\u001b[0m\n\u001b[0;32m-> 1348\u001b[0;31m       \u001b[0;32mraise\u001b[0m \u001b[0mtype\u001b[0m\u001b[0;34m(\u001b[0m\u001b[0me\u001b[0m\u001b[0;34m)\u001b[0m\u001b[0;34m(\u001b[0m\u001b[0mnode_def\u001b[0m\u001b[0;34m,\u001b[0m \u001b[0mop\u001b[0m\u001b[0;34m,\u001b[0m \u001b[0mmessage\u001b[0m\u001b[0;34m)\u001b[0m\u001b[0;34m\u001b[0m\u001b[0;34m\u001b[0m\u001b[0m\n\u001b[0m\u001b[1;32m   1349\u001b[0m \u001b[0;34m\u001b[0m\u001b[0m\n\u001b[1;32m   1350\u001b[0m   \u001b[0;32mdef\u001b[0m \u001b[0m_extend_graph\u001b[0m\u001b[0;34m(\u001b[0m\u001b[0mself\u001b[0m\u001b[0;34m)\u001b[0m\u001b[0;34m:\u001b[0m\u001b[0;34m\u001b[0m\u001b[0;34m\u001b[0m\u001b[0m\n",
            "\u001b[0;31mFailedPreconditionError\u001b[0m: Attempting to use uninitialized value cwout\n\t [[node cwout/read (defined at <ipython-input-9-9194c52c64b6>:12) ]]\n\nCaused by op 'cwout/read', defined at:\n  File \"/usr/lib/python3.6/runpy.py\", line 193, in _run_module_as_main\n    \"__main__\", mod_spec)\n  File \"/usr/lib/python3.6/runpy.py\", line 85, in _run_code\n    exec(code, run_globals)\n  File \"/usr/local/lib/python3.6/dist-packages/ipykernel_launcher.py\", line 16, in <module>\n    app.launch_new_instance()\n  File \"/usr/local/lib/python3.6/dist-packages/traitlets/config/application.py\", line 658, in launch_instance\n    app.start()\n  File \"/usr/local/lib/python3.6/dist-packages/ipykernel/kernelapp.py\", line 477, in start\n    ioloop.IOLoop.instance().start()\n  File \"/usr/local/lib/python3.6/dist-packages/tornado/ioloop.py\", line 832, in start\n    self._run_callback(self._callbacks.popleft())\n  File \"/usr/local/lib/python3.6/dist-packages/tornado/ioloop.py\", line 605, in _run_callback\n    ret = callback()\n  File \"/usr/local/lib/python3.6/dist-packages/tornado/stack_context.py\", line 277, in null_wrapper\n    return fn(*args, **kwargs)\n  File \"/usr/local/lib/python3.6/dist-packages/zmq/eventloop/zmqstream.py\", line 536, in <lambda>\n    self.io_loop.add_callback(lambda : self._handle_events(self.socket, 0))\n  File \"/usr/local/lib/python3.6/dist-packages/zmq/eventloop/zmqstream.py\", line 450, in _handle_events\n    self._handle_recv()\n  File \"/usr/local/lib/python3.6/dist-packages/zmq/eventloop/zmqstream.py\", line 480, in _handle_recv\n    self._run_callback(callback, msg)\n  File \"/usr/local/lib/python3.6/dist-packages/zmq/eventloop/zmqstream.py\", line 432, in _run_callback\n    callback(*args, **kwargs)\n  File \"/usr/local/lib/python3.6/dist-packages/tornado/stack_context.py\", line 277, in null_wrapper\n    return fn(*args, **kwargs)\n  File \"/usr/local/lib/python3.6/dist-packages/ipykernel/kernelbase.py\", line 283, in dispatcher\n    return self.dispatch_shell(stream, msg)\n  File \"/usr/local/lib/python3.6/dist-packages/ipykernel/kernelbase.py\", line 235, in dispatch_shell\n    handler(stream, idents, msg)\n  File \"/usr/local/lib/python3.6/dist-packages/ipykernel/kernelbase.py\", line 399, in execute_request\n    user_expressions, allow_stdin)\n  File \"/usr/local/lib/python3.6/dist-packages/ipykernel/ipkernel.py\", line 196, in do_execute\n    res = shell.run_cell(code, store_history=store_history, silent=silent)\n  File \"/usr/local/lib/python3.6/dist-packages/ipykernel/zmqshell.py\", line 533, in run_cell\n    return super(ZMQInteractiveShell, self).run_cell(*args, **kwargs)\n  File \"/usr/local/lib/python3.6/dist-packages/IPython/core/interactiveshell.py\", line 2718, in run_cell\n    interactivity=interactivity, compiler=compiler, result=result)\n  File \"/usr/local/lib/python3.6/dist-packages/IPython/core/interactiveshell.py\", line 2822, in run_ast_nodes\n    if self.run_code(code, result):\n  File \"/usr/local/lib/python3.6/dist-packages/IPython/core/interactiveshell.py\", line 2882, in run_code\n    exec(code_obj, self.user_global_ns, self.user_ns)\n  File \"<ipython-input-9-9194c52c64b6>\", line 12, in <module>\n    'cwout': tf.Variable(dtype='float', initial_value=tf.random_normal(shape=[1024, 10], mean=0.0, stddev=np.sqrt(2/1024)), name='cwout'),\n  File \"/usr/local/lib/python3.6/dist-packages/tensorflow/python/ops/variables.py\", line 213, in __call__\n    return cls._variable_v1_call(*args, **kwargs)\n  File \"/usr/local/lib/python3.6/dist-packages/tensorflow/python/ops/variables.py\", line 176, in _variable_v1_call\n    aggregation=aggregation)\n  File \"/usr/local/lib/python3.6/dist-packages/tensorflow/python/ops/variables.py\", line 155, in <lambda>\n    previous_getter = lambda **kwargs: default_variable_creator(None, **kwargs)\n  File \"/usr/local/lib/python3.6/dist-packages/tensorflow/python/ops/variable_scope.py\", line 2495, in default_variable_creator\n    expected_shape=expected_shape, import_scope=import_scope)\n  File \"/usr/local/lib/python3.6/dist-packages/tensorflow/python/ops/variables.py\", line 217, in __call__\n    return super(VariableMetaclass, cls).__call__(*args, **kwargs)\n  File \"/usr/local/lib/python3.6/dist-packages/tensorflow/python/ops/variables.py\", line 1395, in __init__\n    constraint=constraint)\n  File \"/usr/local/lib/python3.6/dist-packages/tensorflow/python/ops/variables.py\", line 1557, in _init_from_args\n    self._snapshot = array_ops.identity(self._variable, name=\"read\")\n  File \"/usr/local/lib/python3.6/dist-packages/tensorflow/python/util/dispatch.py\", line 180, in wrapper\n    return target(*args, **kwargs)\n  File \"/usr/local/lib/python3.6/dist-packages/tensorflow/python/ops/array_ops.py\", line 81, in identity\n    ret = gen_array_ops.identity(input, name=name)\n  File \"/usr/local/lib/python3.6/dist-packages/tensorflow/python/ops/gen_array_ops.py\", line 3890, in identity\n    \"Identity\", input=input, name=name)\n  File \"/usr/local/lib/python3.6/dist-packages/tensorflow/python/framework/op_def_library.py\", line 788, in _apply_op_helper\n    op_def=op_def)\n  File \"/usr/local/lib/python3.6/dist-packages/tensorflow/python/util/deprecation.py\", line 507, in new_func\n    return func(*args, **kwargs)\n  File \"/usr/local/lib/python3.6/dist-packages/tensorflow/python/framework/ops.py\", line 3300, in create_op\n    op_def=op_def)\n  File \"/usr/local/lib/python3.6/dist-packages/tensorflow/python/framework/ops.py\", line 1801, in __init__\n    self._traceback = tf_stack.extract_stack()\n\nFailedPreconditionError (see above for traceback): Attempting to use uninitialized value cwout\n\t [[node cwout/read (defined at <ipython-input-9-9194c52c64b6>:12) ]]\n"
          ]
        }
      ]
    },
    {
      "metadata": {
        "id": "qtX5UkKEPdVz",
        "colab_type": "code",
        "colab": {}
      },
      "cell_type": "code",
      "source": [
        ""
      ],
      "execution_count": 0,
      "outputs": []
    },
    {
      "metadata": {
        "colab_type": "text",
        "id": "d0zhvZH76BvG"
      },
      "cell_type": "markdown",
      "source": [
        "## Analyze weight distribution"
      ]
    },
    {
      "metadata": {
        "colab_type": "code",
        "id": "O6PEKKZx59Rn",
        "colab": {}
      },
      "cell_type": "code",
      "source": [
        "def plot_weight_distribution(weights):\n",
        "  len_wt = len(weights)\n",
        "  \n",
        "  plt.figure(figsize=(5 * len_wt, 5))\n",
        "  for idx, (key, w_op) in enumerate(weights.items()):\n",
        "    w_val = sess.run(w_op)\n",
        "    plt.subplot(1, len_wt, idx + 1)\n",
        "    plt.title(key)\n",
        "    plt.hist(w_val.reshape(-1), bins=50)"
      ],
      "execution_count": 0,
      "outputs": []
    },
    {
      "metadata": {
        "colab_type": "code",
        "id": "BIlGxaVI6pXn",
        "colab": {}
      },
      "cell_type": "code",
      "source": [
        "plot_weight_distribution(weights)"
      ],
      "execution_count": 0,
      "outputs": []
    },
    {
      "metadata": {
        "colab_type": "text",
        "id": "WtvHadnwCRMh"
      },
      "cell_type": "markdown",
      "source": [
        "## Visualize network output"
      ]
    },
    {
      "metadata": {
        "colab_type": "text",
        "id": "XpbmyEEwCrsq"
      },
      "cell_type": "markdown",
      "source": [
        "### Pass 1000 test samples through network. For each digit find images that neural network associates with that digit. Plot 10 such images for each digit"
      ]
    },
    {
      "metadata": {
        "colab_type": "code",
        "id": "sFSJMRkS5MWm",
        "colab": {}
      },
      "cell_type": "code",
      "source": [
        "# pass 1000 images through trained model and get 10 images per output class giving maximum softmax activation\n",
        "batch_x, batch_y = mnist.test.next_batch(1000)\n",
        "a1_val, a2_val, a3_val, a4_val, a5_val, output_val = sess.run([a1, a2, a3, a4, a5, output], feed_dict={X:batch_x, y:batch_y})"
      ],
      "execution_count": 0,
      "outputs": []
    },
    {
      "metadata": {
        "colab_type": "text",
        "id": "YfgC1UlkqoGy"
      },
      "cell_type": "markdown",
      "source": [
        "## Visualize data in reduced dimensions (Principal Components)"
      ]
    },
    {
      "metadata": {
        "colab_type": "code",
        "id": "roMafR__OfTA",
        "colab": {}
      },
      "cell_type": "code",
      "source": [
        "from sklearn.manifold import TSNE\n",
        "from sklearn.decomposition import PCA"
      ],
      "execution_count": 0,
      "outputs": []
    },
    {
      "metadata": {
        "colab_type": "text",
        "id": "fq5hn1_uq0rX"
      },
      "cell_type": "markdown",
      "source": [
        "### Feed some data to neural network to get activation at each layer"
      ]
    },
    {
      "metadata": {
        "colab_type": "code",
        "id": "fhmVmEQtUey7",
        "colab": {}
      },
      "cell_type": "code",
      "source": [
        "num_samples = 5000\n",
        "subset_x = mnist.train.images[:num_samples]\n",
        "subset_y_one_hot = mnist.train.labels[:num_samples];\n",
        "subset_y = np.argmax(subset_y_one_hot, axis=1)"
      ],
      "execution_count": 0,
      "outputs": []
    },
    {
      "metadata": {
        "colab_type": "code",
        "id": "9fYI1hK1UN-J",
        "colab": {}
      },
      "cell_type": "code",
      "source": [
        "a1_val, a2_val, a3_val, a4_val, a5_val, logits_val, output_val = sess.run([a1, a2, a3, a4, a5, logits, output], feed_dict={X: subset_x, y: subset_y_one_hot})"
      ],
      "execution_count": 0,
      "outputs": []
    },
    {
      "metadata": {
        "colab_type": "text",
        "id": "AZ6aCCFAt65W"
      },
      "cell_type": "markdown",
      "source": [
        "### Helper function to plot 2 main components given by tSNE"
      ]
    },
    {
      "metadata": {
        "colab_type": "code",
        "id": "1XXH9CdqUOHi",
        "colab": {}
      },
      "cell_type": "code",
      "source": [
        "def plot_tsne(ax, x, y, title):\n",
        "  model = TSNE(learning_rate=100)\n",
        "  transformed = model.fit_transform(x)\n",
        "  tx = transformed[:, 0]\n",
        "  ty = transformed[:, 1]\n",
        "  ax.scatter(tx, ty, c=y, cmap='plasma', s=10)\n",
        "  ax.set_title(title)\n",
        "  for d in range(10):\n",
        "    cx, cy = np.mean(transformed[y == d], axis=0)\n",
        "    plt.text(cx, cy, str(d), fontsize=50, color='k', weight='bold')"
      ],
      "execution_count": 0,
      "outputs": []
    },
    {
      "metadata": {
        "colab_type": "text",
        "id": "krhYCwguuHFL"
      },
      "cell_type": "markdown",
      "source": [
        "### Helper function to plot 2 main components given by PCA"
      ]
    },
    {
      "metadata": {
        "colab_type": "code",
        "id": "lD9VhcO0lAUe",
        "colab": {}
      },
      "cell_type": "code",
      "source": [
        "def plot_pca(ax, x, y, title):\n",
        "  model = PCA(n_components=2)\n",
        "  transformed = model.fit_transform(x)\n",
        "  tx = transformed[:, 0]\n",
        "  ty = transformed[:, 1]\n",
        "  ax.scatter(tx, ty, c=y, cmap='plasma', s=10)\n",
        "  ax.set_title(title)\n",
        "  for d in range(10):\n",
        "    cx, cy = np.mean(transformed[y == d], axis=0)\n",
        "    plt.text(cx, cy, str(d), fontsize=50, color='k', weight='bold')"
      ],
      "execution_count": 0,
      "outputs": []
    },
    {
      "metadata": {
        "colab_type": "text",
        "id": "YwXtjeVJuVbz"
      },
      "cell_type": "markdown",
      "source": [
        "### Components of raw input"
      ]
    },
    {
      "metadata": {
        "colab_type": "code",
        "id": "aUP9AyPjpTtp",
        "colab": {}
      },
      "cell_type": "code",
      "source": [
        "plt.figure(figsize=(20, 10))\n",
        "\n",
        "ax = plt.subplot(1, 2, 1)\n",
        "plot_pca(ax, subset_x, subset_y, 'PCA on Input')\n",
        "\n",
        "ax = plt.subplot(1, 2, 2)\n",
        "plot_tsne(ax, subset_x, subset_y, 'tSNE on Input')"
      ],
      "execution_count": 0,
      "outputs": []
    },
    {
      "metadata": {
        "colab_type": "text",
        "id": "uaZ6SUH2v88d"
      },
      "cell_type": "markdown",
      "source": [
        "### Principal Components  of output layer (logits)"
      ]
    },
    {
      "metadata": {
        "colab_type": "code",
        "id": "ztzPtukkwBfv",
        "colab": {}
      },
      "cell_type": "code",
      "source": [
        "plt.figure(figsize=(20, 10))\n",
        "\n",
        "ax = plt.subplot(1, 2, 1)\n",
        "plot_pca(ax, logits_val, subset_y, 'PCA on output layer (logits)')\n",
        "\n",
        "ax = plt.subplot(1, 2, 2)\n",
        "plot_tsne(ax, logits_val, subset_y, 'tSNE on output layer (logits)')"
      ],
      "execution_count": 0,
      "outputs": []
    },
    {
      "metadata": {
        "colab_type": "text",
        "id": "yD6UasL0wET8"
      },
      "cell_type": "markdown",
      "source": [
        "### Principal Components of softmax layer"
      ]
    },
    {
      "metadata": {
        "colab_type": "code",
        "id": "Ayu3pcTswIGC",
        "colab": {}
      },
      "cell_type": "code",
      "source": [
        "plt.figure(figsize=(20, 10))\n",
        "\n",
        "ax = plt.subplot(1, 2, 1)\n",
        "plot_pca(ax, output_val, subset_y, 'PCA on 3rd softmax layer')\n",
        "\n",
        "ax = plt.subplot(1, 2, 2)\n",
        "plot_tsne(ax, output_val, subset_y, 'tSNE on 3rd softmax layer')"
      ],
      "execution_count": 0,
      "outputs": []
    },
    {
      "metadata": {
        "colab_type": "text",
        "id": "gNUqjHxYr8qQ"
      },
      "cell_type": "markdown",
      "source": [
        "By looking at above graphs,\n",
        "\n",
        "1. The raw data samples are not separable at all as they overlap with each other.\n",
        "\n",
        "2. The activations of first hidden layer are also not separable, but little better than raw data. The data points of each class seem to form a cluster. This is because of the extra non-linear features added by the first layer.\n",
        "\n",
        "3. As we go deeper down the network, more complex features are evolved which makes the data more and more separable. \n",
        "\n",
        "We can think of this as follows,\n",
        "\n",
        "Each layer is a matrix. Multiplying such matrix to input data, transforms the input space into some high dimensional space. (increase from 784 to 1024). The non-linearity sees that the relative positions of data points change in the transformed space. (Simple matrix multiplication can only make input space squeeze, expand or skew).\n",
        "\n",
        "The 2nd layer does the same thing but starting with already transformed space. So the resulting space is even more complex. And so does the other layers.\n",
        "\n",
        "Now these transformations would be useful if the input data is a little more separable in the transformed space. That's exactly what the backpropogation takes care of. \n",
        "\n",
        "Some of the above intuition comes of this video [Linear transformations and matrices - 3blue1Brown](https://www.youtube.com/watch?v=kYB8IZa5AuE)"
      ]
    },
    {
      "metadata": {
        "colab_type": "code",
        "id": "YJDZGP7b4Ftf",
        "colab": {}
      },
      "cell_type": "code",
      "source": [
        "sess.close()"
      ],
      "execution_count": 0,
      "outputs": []
    },
    {
      "metadata": {
        "colab_type": "code",
        "id": "Xeu4lT9P4GwN",
        "colab": {}
      },
      "cell_type": "code",
      "source": [
        ""
      ],
      "execution_count": 0,
      "outputs": []
    }
  ]
}