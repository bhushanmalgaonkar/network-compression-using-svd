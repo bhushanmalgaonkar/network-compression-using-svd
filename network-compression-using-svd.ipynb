{
  "nbformat": 4,
  "nbformat_minor": 0,
  "metadata": {
    "colab": {
      "name": "network-compression-using-svd.ipynb",
      "version": "0.3.2",
      "provenance": []
    },
    "kernelspec": {
      "name": "python3",
      "display_name": "Python 3"
    },
    "accelerator": "GPU"
  },
  "cells": [
    {
      "metadata": {
        "colab_type": "code",
        "id": "dtmoS4obWXGF",
        "colab": {}
      },
      "cell_type": "code",
      "source": [
        "import math\n",
        "import numpy as np\n",
        "import pandas as pd"
      ],
      "execution_count": 0,
      "outputs": []
    },
    {
      "metadata": {
        "colab_type": "code",
        "id": "qLEJLHRjWXGc",
        "colab": {}
      },
      "cell_type": "code",
      "source": [
        "import seaborn as sns\n",
        "import matplotlib.pyplot as plt\n",
        "%matplotlib inline"
      ],
      "execution_count": 0,
      "outputs": []
    },
    {
      "metadata": {
        "colab_type": "code",
        "id": "TczOSacbWXG3",
        "colab": {}
      },
      "cell_type": "code",
      "source": [
        "import tensorflow as tf"
      ],
      "execution_count": 0,
      "outputs": []
    },
    {
      "metadata": {
        "colab_type": "code",
        "id": "p0KL554lWXHM",
        "outputId": "ed3c239c-d6bd-4ec8-db6f-211438f51204",
        "colab": {
          "base_uri": "https://localhost:8080/",
          "height": 151
        }
      },
      "cell_type": "code",
      "source": [
        "# temporariliy suppress deprecation warnings (https://stackoverflow.com/questions/49901806/tensorflow-importing-mnist-warnings)\n",
        "old_v = tf.logging.get_verbosity()\n",
        "tf.logging.set_verbosity(tf.logging.ERROR)\n",
        "\n",
        "# load mnist data\n",
        "from tensorflow.examples.tutorials.mnist import input_data\n",
        "mnist = input_data.read_data_sets('MNIST_data', one_hot=True)\n",
        "\n",
        "# revert logging settings\n",
        "tf.logging.set_verbosity(old_v)"
      ],
      "execution_count": 4,
      "outputs": [
        {
          "output_type": "stream",
          "text": [
            "Successfully downloaded train-images-idx3-ubyte.gz 9912422 bytes.\n",
            "Extracting MNIST_data/train-images-idx3-ubyte.gz\n",
            "Successfully downloaded train-labels-idx1-ubyte.gz 28881 bytes.\n",
            "Extracting MNIST_data/train-labels-idx1-ubyte.gz\n",
            "Successfully downloaded t10k-images-idx3-ubyte.gz 1648877 bytes.\n",
            "Extracting MNIST_data/t10k-images-idx3-ubyte.gz\n",
            "Successfully downloaded t10k-labels-idx1-ubyte.gz 4542 bytes.\n",
            "Extracting MNIST_data/t10k-labels-idx1-ubyte.gz\n"
          ],
          "name": "stdout"
        }
      ]
    },
    {
      "metadata": {
        "colab_type": "code",
        "id": "DQKFkPmwWjrc",
        "outputId": "b3077663-e3f9-4c2e-fc39-a2c0cb67fb37",
        "colab": {
          "base_uri": "https://localhost:8080/",
          "height": 34
        }
      },
      "cell_type": "code",
      "source": [
        "mnist.train.images.shape"
      ],
      "execution_count": 5,
      "outputs": [
        {
          "output_type": "execute_result",
          "data": {
            "text/plain": [
              "(55000, 784)"
            ]
          },
          "metadata": {
            "tags": []
          },
          "execution_count": 5
        }
      ]
    },
    {
      "metadata": {
        "colab_type": "text",
        "id": "cH12-aGK_251"
      },
      "cell_type": "markdown",
      "source": [
        "## Training"
      ]
    },
    {
      "metadata": {
        "colab_type": "text",
        "id": "R_v5jsuE_4qv"
      },
      "cell_type": "markdown",
      "source": [
        "### Define tensors for the model"
      ]
    },
    {
      "metadata": {
        "colab_type": "code",
        "id": "owhYYlNiW-cc",
        "colab": {}
      },
      "cell_type": "code",
      "source": [
        "# Build neural network\n",
        "X = tf.placeholder(dtype='float', shape=[None, 784], name='X')\n",
        "y = tf.placeholder(dtype='float', shape=[None, 10], name='y')\n",
        "\n",
        "cX = tf.placeholder(dtype='float', shape=[None, 784], name='cX')\n",
        "cy = tf.placeholder(dtype='float', shape=[None, 10], name='cy')"
      ],
      "execution_count": 0,
      "outputs": []
    },
    {
      "metadata": {
        "colab_type": "text",
        "id": "kSjMpgSF_oq8"
      },
      "cell_type": "markdown",
      "source": [
        "#### Initialize weight and bias matrix with He Initializer (mean=0.0, stddev=sqrt(2/#in_nodes))"
      ]
    },
    {
      "metadata": {
        "id": "CudZGljQP0ey",
        "colab_type": "code",
        "colab": {}
      },
      "cell_type": "code",
      "source": [
        "# hyper-parameters\n",
        "beta = 0.001\n",
        "learning_rate = 0.0002"
      ],
      "execution_count": 0,
      "outputs": []
    },
    {
      "metadata": {
        "colab_type": "code",
        "id": "dtCZY6fu_ntA",
        "outputId": "e39e7a0b-bd77-4d73-943d-2f7ed21cd8bc",
        "colab": {
          "base_uri": "https://localhost:8080/",
          "height": 87
        }
      },
      "cell_type": "code",
      "source": [
        "weights = {\n",
        "    'w1': tf.Variable(dtype='float', initial_value=tf.random_normal(shape=[784, 1024], mean=0.0, stddev=np.sqrt(2/784)), name='w1'),\n",
        "    'w2': tf.Variable(dtype='float', initial_value=tf.random_normal(shape=[1024, 1024], mean=0.0, stddev=np.sqrt(2/1024)), name='w2'),\n",
        "    'w3': tf.Variable(dtype='float', initial_value=tf.random_normal(shape=[1024, 1024], mean=0.0, stddev=np.sqrt(2/1024)), name='w3'),\n",
        "    'w4': tf.Variable(dtype='float', initial_value=tf.random_normal(shape=[1024, 1024], mean=0.0, stddev=np.sqrt(2/1024)), name='w4'),\n",
        "    'w5': tf.Variable(dtype='float', initial_value=tf.random_normal(shape=[1024, 1024], mean=0.0, stddev=np.sqrt(2/1024)), name='w5'),\n",
        "    'wout': tf.Variable(dtype='float', initial_value=tf.random_normal(shape=[1024, 10], mean=0.0, stddev=np.sqrt(2/1024)), name='wout'),\n",
        "}\n",
        "\n",
        "bias_initial_value = 0.01\n",
        "biases = {\n",
        "    'b1': tf.Variable(initial_value=tf.ones([1024]) * bias_initial_value, name='b1'),\n",
        "    'b2': tf.Variable(initial_value=tf.ones([1024]) * bias_initial_value, name='b2'),\n",
        "    'b3': tf.Variable(initial_value=tf.ones([1024]) * bias_initial_value, name='b3'),\n",
        "    'b4': tf.Variable(initial_value=tf.ones([1024]) * bias_initial_value, name='b4'),\n",
        "    'b5': tf.Variable(initial_value=tf.ones([1024]) * bias_initial_value, name='b5'),\n",
        "    'bout': tf.Variable(initial_value=tf.ones([10]) * bias_initial_value, name='bout')\n",
        "}\n",
        "\n",
        "z1 = tf.add(tf.matmul(X, weights['w1']), biases['b1'])\n",
        "a1 = tf.nn.relu(z1)\n",
        "\n",
        "z2 = tf.add(tf.matmul(a1, weights['w2']), biases['b2'])\n",
        "a2 = tf.nn.relu(z2)\n",
        "\n",
        "z3 = tf.add(tf.matmul(a2, weights['w3']), biases['b3'])\n",
        "a3 = tf.nn.relu(z3)\n",
        "\n",
        "z4 = tf.add(tf.matmul(a3, weights['w4']), biases['b4'])\n",
        "a4 = tf.nn.relu(z4)\n",
        "\n",
        "z5 = tf.add(tf.matmul(a4, weights['w5']), biases['b5'])\n",
        "a5 = tf.nn.relu(z5)\n",
        "\n",
        "logits = tf.add(tf.matmul(a5, weights['wout']), biases['bout'])\n",
        "output = tf.nn.softmax(logits=logits)\n",
        "\n",
        "# losses\n",
        "regularizers = tf.nn.l2_loss(weights['w1']) + tf.nn.l2_loss(weights['w2']) + tf.nn.l2_loss(weights['w3']) \\\n",
        "                + tf.nn.l2_loss(weights['w4']) + tf.nn.l2_loss(weights['w5']) + tf.nn.l2_loss(weights['wout'])\n",
        "loss = tf.reduce_mean(tf.nn.softmax_cross_entropy_with_logits_v2(logits=logits, labels=y) \\\n",
        "                + beta * regularizers)\n",
        "\n",
        "train = tf.train.AdamOptimizer(learning_rate=learning_rate).minimize(loss=loss)\n",
        "\n",
        "# calculate accuracy\n",
        "correct = tf.equal(tf.argmax(input=logits, axis=1), tf.argmax(input=y, axis=1))\n",
        "accuracy = tf.reduce_mean(tf.cast(dtype='float', x=correct))"
      ],
      "execution_count": 7,
      "outputs": [
        {
          "output_type": "stream",
          "text": [
            "WARNING:tensorflow:From /usr/local/lib/python3.6/dist-packages/tensorflow/python/framework/op_def_library.py:263: colocate_with (from tensorflow.python.framework.ops) is deprecated and will be removed in a future version.\n",
            "Instructions for updating:\n",
            "Colocations handled automatically by placer.\n"
          ],
          "name": "stdout"
        }
      ]
    },
    {
      "metadata": {
        "id": "QLmASQ_xcsUT",
        "colab_type": "code",
        "colab": {}
      },
      "cell_type": "code",
      "source": [
        ""
      ],
      "execution_count": 0,
      "outputs": []
    },
    {
      "metadata": {
        "id": "CR2_O0LuUD5u",
        "colab_type": "code",
        "colab": {}
      },
      "cell_type": "code",
      "source": [
        "limit = 20"
      ],
      "execution_count": 0,
      "outputs": []
    },
    {
      "metadata": {
        "id": "D7-ZsjLyQG4X",
        "colab_type": "text"
      },
      "cell_type": "markdown",
      "source": [
        ""
      ]
    },
    {
      "metadata": {
        "id": "YmZ-7Aa_TDuB",
        "colab_type": "code",
        "colab": {}
      },
      "cell_type": "code",
      "source": [
        "cweights = {\n",
        "    'w1_u': tf.Variable(dtype='float', initial_value=tf.random_normal(shape=[784, limit], mean=0.0, stddev=np.sqrt(2/784)), name='cw1_u'),\n",
        "    'w1_svt': tf.Variable(dtype='float', initial_value=tf.random_normal(shape=[limit, 1024], mean=0.0, stddev=np.sqrt(2/limit)), name='cw1_svt'),\n",
        "    'w2_u': tf.Variable(dtype='float', initial_value=tf.random_normal(shape=[1024, limit], mean=0.0, stddev=np.sqrt(2/1024)), name='cw2_u'),\n",
        "    'w2_svt': tf.Variable(dtype='float', initial_value=tf.random_normal(shape=[limit, 1024], mean=0.0, stddev=np.sqrt(2/limit)), name='cw2_svt'),\n",
        "    'w3_u': tf.Variable(dtype='float', initial_value=tf.random_normal(shape=[1024, limit], mean=0.0, stddev=np.sqrt(2/1024)), name='cw3_u'),\n",
        "    'w3_svt': tf.Variable(dtype='float', initial_value=tf.random_normal(shape=[limit, 1024], mean=0.0, stddev=np.sqrt(2/limit)), name='cw3_svt'),\n",
        "    'w4_u': tf.Variable(dtype='float', initial_value=tf.random_normal(shape=[1024, limit], mean=0.0, stddev=np.sqrt(2/1024)), name='cw4_u'),\n",
        "    'w4_svt': tf.Variable(dtype='float', initial_value=tf.random_normal(shape=[limit, 1024], mean=0.0, stddev=np.sqrt(2/limit)), name='cw4_svt'),\n",
        "    'w5_u': tf.Variable(dtype='float', initial_value=tf.random_normal(shape=[1024, limit], mean=0.0, stddev=np.sqrt(2/1024)), name='cw5_u'),\n",
        "    'w5_svt': tf.Variable(dtype='float', initial_value=tf.random_normal(shape=[limit, 1024], mean=0.0, stddev=np.sqrt(2/limit)), name='cw5_svt'),\n",
        "    'cwout': tf.Variable(dtype='float', initial_value=tf.random_normal(shape=[1024, 10], mean=0.0, stddev=np.sqrt(2/1024)), name='cwout'),\n",
        "}\n",
        "\n",
        "cbiases = {\n",
        "    'b1': tf.Variable(initial_value=tf.ones([1024]), name='cb1'),\n",
        "    'b2': tf.Variable(initial_value=tf.ones([1024]), name='cb2'),\n",
        "    'b3': tf.Variable(initial_value=tf.ones([1024]), name='cb3'),\n",
        "    'b4': tf.Variable(initial_value=tf.ones([1024]), name='cb4'),\n",
        "    'b5': tf.Variable(initial_value=tf.ones([1024]), name='cb5'),\n",
        "    'cbout': tf.Variable(initial_value=tf.ones([10]), name='cbout')\n",
        "}\n",
        "\n",
        "cz1 = tf.add(tf.matmul(tf.matmul(cX, cweights['w1_u']), cweights['w1_svt']), cbiases['b1'])\n",
        "ca1 = tf.nn.relu(cz1)\n",
        "\n",
        "cz2 = tf.add(tf.matmul(tf.matmul(ca1, cweights['w2_u']), cweights['w2_svt']), cbiases['b2'])\n",
        "ca2 = tf.nn.relu(cz2)\n",
        "\n",
        "cz3 = tf.add(tf.matmul(tf.matmul(ca2, cweights['w3_u']), cweights['w3_svt']), cbiases['b3'])\n",
        "ca3 = tf.nn.relu(cz3)\n",
        "\n",
        "cz4 = tf.add(tf.matmul(tf.matmul(ca3, cweights['w4_u']), cweights['w4_svt']), cbiases['b4'])\n",
        "ca4 = tf.nn.relu(cz4)\n",
        "\n",
        "cz5 = tf.add(tf.matmul(tf.matmul(ca4, cweights['w5_u']), cweights['w5_svt']), cbiases['b5'])\n",
        "ca5 = tf.nn.relu(cz5)\n",
        "\n",
        "clogits = tf.add(tf.matmul(ca5, cweights['cwout']), cbiases['cbout'])\n",
        "coutput = tf.nn.softmax(logits=clogits)\n",
        "\n",
        "# losses\n",
        "#   cregularizers = 0\n",
        "#   for wt in cweights:\n",
        "#     cregularizers += tf.nn.l2_loss(cweights[wt])\n",
        "\n",
        "closs = tf.reduce_mean(tf.nn.softmax_cross_entropy_with_logits_v2(logits=clogits, labels=cy)) #\\\n",
        "#                   + beta * cregularizers)\n",
        "\n",
        "ctrain = tf.train.AdamOptimizer(learning_rate=0.0002).minimize(loss=closs)\n",
        "\n",
        "# calculate accuracy\n",
        "ccorrect = tf.equal(tf.argmax(input=clogits, axis=1), tf.argmax(input=cy, axis=1))\n",
        "caccuracy = tf.reduce_mean(tf.cast(dtype='float', x=ccorrect))"
      ],
      "execution_count": 0,
      "outputs": []
    },
    {
      "metadata": {
        "colab_type": "text",
        "id": "GFiak8CdAArq"
      },
      "cell_type": "markdown",
      "source": [
        "#### Plug everything together"
      ]
    },
    {
      "metadata": {
        "colab_type": "code",
        "id": "RQGGt0fz0Uyj",
        "outputId": "2bbee8e8-5d95-4b0e-a938-b937729bb103",
        "colab": {
          "base_uri": "https://localhost:8080/",
          "height": 218
        }
      },
      "cell_type": "code",
      "source": [
        "batch_size = 1000\n",
        "num_epochs = 60\n",
        "display_step = 20\n",
        "log_step = 10\n",
        "\n",
        "total_samples = mnist.train.images.shape[0]\n",
        "num_batches = int(math.ceil(total_samples/batch_size))\n",
        "\n",
        "# these lists will be used to display accuracy/loss graphs over epochs\n",
        "train_acc, test_acc = [], []\n",
        "train_loss, test_loss = [], []\n",
        "xticks = []\n",
        "\n",
        "sess = tf.Session()\n",
        "  \n",
        "sess.run(tf.global_variables_initializer())\n",
        "for epoch in range(1, num_epochs + 1):\n",
        "  for itr in range(num_batches):\n",
        "    batch_x, batch_y = mnist.train.next_batch(batch_size=batch_size)\n",
        "    sess.run(train, feed_dict={X: batch_x, y: batch_y})\n",
        "    \n",
        "  if epoch % log_step == 0:\n",
        "    trls, trac = sess.run([loss, accuracy], feed_dict={X: batch_x, y: batch_y})\n",
        "    tsls, tsac = sess.run([loss, accuracy], feed_dict={X: mnist.test.images, y: mnist.test.labels})\n",
        "    \n",
        "    train_acc.append(trac)\n",
        "    test_acc.append(tsac)\n",
        "    train_loss.append(trls)\n",
        "    test_loss.append(tsls)\n",
        "    xticks.append(epoch)\n",
        "    \n",
        "  if epoch % display_step == 0:\n",
        "    print(f'Epoch:{epoch}')\n",
        "    print(f'Train set:\\tLoss:{trls:.4f},\\tAccuracy:{trac:.4f}')\n",
        "    print(f'Test set:\\tLoss:{tsls:.4f},\\tAccuracy:{tsac:.4f}\\n')"
      ],
      "execution_count": 11,
      "outputs": [
        {
          "output_type": "stream",
          "text": [
            "Epoch:20\n",
            "Train set:\tLoss:0.9229,\tAccuracy:1.0000\n",
            "Test set:\tLoss:0.9724,\tAccuracy:0.9821\n",
            "\n",
            "Epoch:40\n",
            "Train set:\tLoss:0.2892,\tAccuracy:1.0000\n",
            "Test set:\tLoss:0.3436,\tAccuracy:0.9822\n",
            "\n",
            "Epoch:60\n",
            "Train set:\tLoss:0.1379,\tAccuracy:1.0000\n",
            "Test set:\tLoss:0.1950,\tAccuracy:0.9810\n",
            "\n"
          ],
          "name": "stdout"
        }
      ]
    },
    {
      "metadata": {
        "colab_type": "code",
        "id": "XwsA30Y05q4i",
        "outputId": "e4a464ae-b48c-484d-fb92-d72d5cc662e4",
        "colab": {
          "base_uri": "https://localhost:8080/",
          "height": 366
        }
      },
      "cell_type": "code",
      "source": [
        "plt.figure(figsize=(10, 5))\n",
        "\n",
        "plt.subplot(1, 2, 1)\n",
        "plt.plot(xticks, train_acc)\n",
        "plt.plot(xticks, test_acc)\n",
        "plt.title('Accuracy by epochs')\n",
        "plt.xlabel('Epochs')\n",
        "plt.ylabel('Accuracy')\n",
        "plt.legend(['Training accuracy', 'Test accuracy'])\n",
        "\n",
        "plt.subplot(1, 2, 2)\n",
        "plt.plot(xticks, train_loss)\n",
        "plt.plot(xticks, test_loss)\n",
        "plt.title('Loss by epochs')\n",
        "plt.xlabel('Epochs')\n",
        "plt.ylabel('Loss')\n",
        "plt.legend(['Training loss', 'Test loss'])"
      ],
      "execution_count": 12,
      "outputs": [
        {
          "output_type": "execute_result",
          "data": {
            "text/plain": [
              "<matplotlib.legend.Legend at 0x7fd18010d550>"
            ]
          },
          "metadata": {
            "tags": []
          },
          "execution_count": 12
        },
        {
          "output_type": "display_data",
          "data": {
            "image/png": "[encoded data removed]",
            "text/plain": [
              "<Figure size 720x360 with 2 Axes>"
            ]
          },
          "metadata": {
            "tags": []
          }
        }
      ]
    },
    {
      "metadata": {
        "id": "s5lho4_Ud6H3",
        "colab_type": "text"
      },
      "cell_type": "markdown",
      "source": [
        "### Store values of weights"
      ]
    },
    {
      "metadata": {
        "id": "hLya1W7ueJi7",
        "colab_type": "code",
        "colab": {}
      },
      "cell_type": "code",
      "source": [
        "weights_val = {}\n",
        "for w in ['w1', 'w2', 'w3', 'w4', 'w5', 'wout']:\n",
        "  weights_val[w] = sess.run(weights[w])\n",
        "  \n",
        "biases_val = {}\n",
        "for b in ['b1', 'b2', 'b3', 'b4', 'b5', 'bout']:\n",
        "  biases_val[b] = sess.run(biases[b])"
      ],
      "execution_count": 0,
      "outputs": []
    },
    {
      "metadata": {
        "id": "W16X65V61KES",
        "colab_type": "code",
        "colab": {}
      },
      "cell_type": "code",
      "source": [
        "def compress_matrix(mat, limit=None):\n",
        "  u, s, vt = np.linalg.svd(mat)\n",
        "\n",
        "  if limit is None:\n",
        "    sigma = np.zeros((mat.shape[0], mat.shape[1]))\n",
        "    sigma[:s.shape[0], :s.shape[0]] = np.diag(s)\n",
        "    return np.dot(u, np.dot(sigma, vt))    \n",
        "  \n",
        "  sigma = np.zeros((limit, limit))\n",
        "  sigma[:limit, :limit] = np.diag(s[:limit])\n",
        "  return np.dot(u[:, :limit], np.dot(sigma, vt[:limit, :]))"
      ],
      "execution_count": 0,
      "outputs": []
    },
    {
      "metadata": {
        "id": "NhCYnlnLz0z9",
        "colab_type": "code",
        "colab": {}
      },
      "cell_type": "code",
      "source": [
        "def run_compressed(sess, limit=None):\n",
        "  compressed_w1 = compress_matrix(weights_val['w1'], limit)\n",
        "  sess.run(weights['w1'].assign(compressed_w1))\n",
        "  \n",
        "  compressed_w2 = compress_matrix(weights_val['w2'], limit)\n",
        "  sess.run(weights['w2'].assign(compressed_w2))\n",
        "  \n",
        "  compressed_w3 = compress_matrix(weights_val['w3'], limit)\n",
        "  sess.run(weights['w3'].assign(compressed_w3))\n",
        "  \n",
        "  compressed_w4 = compress_matrix(weights_val['w4'], limit)\n",
        "  sess.run(weights['w4'].assign(compressed_w4))\n",
        "  \n",
        "  compressed_w5 = compress_matrix(weights_val['w5'], limit)\n",
        "  sess.run(weights['w5'].assign(compressed_w5))\n",
        "  \n",
        "  tsls, tsac = sess.run([loss, accuracy], feed_dict={X: mnist.test.images, y: mnist.test.labels})\n",
        "  return tsls, tsac"
      ],
      "execution_count": 0,
      "outputs": []
    },
    {
      "metadata": {
        "id": "979kNOq8z0_Z",
        "colab_type": "code",
        "outputId": "52be3f2b-d58d-4e95-b468-c38d68a99b9b",
        "colab": {
          "base_uri": "https://localhost:8080/",
          "height": 118
        }
      },
      "cell_type": "code",
      "source": [
        "for lm in [10, 20, 50, 100, 200, None]:\n",
        "  tsls, tsac = run_compressed(sess, lm)\n",
        "  print('Limit: {}\\tTest loss: {:.5f}\\tTest accuracy: {:.5f}'.format(lm, tsls, tsac))"
      ],
      "execution_count": 16,
      "outputs": [
        {
          "output_type": "stream",
          "text": [
            "Limit: 20\tTest loss: 1.93006\tTest accuracy: 0.55890\n",
            "Limit: 20\tTest loss: 1.04718\tTest accuracy: 0.74960\n",
            "Limit: 20\tTest loss: 0.34734\tTest accuracy: 0.92270\n",
            "Limit: 20\tTest loss: 0.21327\tTest accuracy: 0.96970\n",
            "Limit: 20\tTest loss: 0.19329\tTest accuracy: 0.98000\n",
            "Limit: 20\tTest loss: 0.19495\tTest accuracy: 0.98100\n"
          ],
          "name": "stdout"
        }
      ]
    },
    {
      "metadata": {
        "id": "xxLJCQozK9Xi",
        "colab_type": "code",
        "colab": {}
      },
      "cell_type": "code",
      "source": [
        "def get_components(mat, limit=None):\n",
        "  u, s, vt = np.linalg.svd(mat)\n",
        "\n",
        "  if limit is None:\n",
        "    sigma = np.zeros((mat.shape[0], mat.shape[1]))\n",
        "    sigma[:s.shape[0], :s.shape[0]] = np.diag(s)\n",
        "    return u, np.dot(sigma, vt) \n",
        "  \n",
        "  sigma = np.zeros((limit, limit))\n",
        "  sigma[:limit, :limit] = np.diag(s[:limit])\n",
        "  return u[:, :limit], np.dot(sigma, vt[:limit, :])"
      ],
      "execution_count": 0,
      "outputs": []
    },
    {
      "metadata": {
        "id": "LU4CZY6pz0QL",
        "colab_type": "text"
      },
      "cell_type": "markdown",
      "source": [
        "### Assign values calculated by SVD to these layers"
      ]
    },
    {
      "metadata": {
        "id": "UhcXSgxdz0H_",
        "colab_type": "code",
        "outputId": "e50ffcc3-4a9d-4ee9-9076-f7f3edc80ea0",
        "colab": {
          "base_uri": "https://localhost:8080/",
          "height": 50
        }
      },
      "cell_type": "code",
      "source": [
        "w1_u_val, w1_svt_val = get_components(weights_val['w1'], limit)\n",
        "sess.run(cweights['w1_u'].assign(w1_u_val))\n",
        "sess.run(cweights['w1_svt'].assign(w1_svt_val))\n",
        "\n",
        "w2_u_val, w2_svt_val = get_components(weights_val['w2'], limit)\n",
        "sess.run(cweights['w2_u'].assign(w2_u_val))\n",
        "sess.run(cweights['w2_svt'].assign(w2_svt_val))\n",
        "\n",
        "w3_u_val, w3_svt_val = get_components(weights_val['w3'], limit)\n",
        "sess.run(cweights['w3_u'].assign(w3_u_val))\n",
        "sess.run(cweights['w3_svt'].assign(w3_svt_val))\n",
        "\n",
        "w4_u_val, w4_svt_val = get_components(weights_val['w4'], limit)\n",
        "sess.run(cweights['w4_u'].assign(w4_u_val))\n",
        "sess.run(cweights['w4_svt'].assign(w4_svt_val))\n",
        "\n",
        "w5_u_val, w5_svt_val = get_components(weights_val['w5'], limit)\n",
        "sess.run(cweights['w5_u'].assign(w5_u_val))\n",
        "sess.run(cweights['w5_svt'].assign(w5_svt_val))\n",
        "\n",
        "sess.run(cbiases['b1'].assign(biases_val['b1']))\n",
        "sess.run(cbiases['b2'].assign(biases_val['b2']))\n",
        "sess.run(cbiases['b3'].assign(biases_val['b3']))\n",
        "sess.run(cbiases['b4'].assign(biases_val['b4']))\n",
        "sess.run(cbiases['b5'].assign(biases_val['b5']))"
      ],
      "execution_count": 18,
      "outputs": [
        {
          "output_type": "execute_result",
          "data": {
            "text/plain": [
              "array([0.00577251, 0.02202324, 0.01498394, ..., 0.02122852, 0.01504219,\n",
              "       0.02237709], dtype=float32)"
            ]
          },
          "metadata": {
            "tags": []
          },
          "execution_count": 18
        }
      ]
    },
    {
      "metadata": {
        "id": "-C09biTdPdjH",
        "colab_type": "code",
        "outputId": "411b387b-cabf-47be-e191-64f4ede15009",
        "colab": {
          "base_uri": "https://localhost:8080/",
          "height": 218
        }
      },
      "cell_type": "code",
      "source": [
        "batch_size = 1000\n",
        "num_epochs = 60\n",
        "display_step = 20\n",
        "log_step = 10\n",
        "\n",
        "total_samples = mnist.train.images.shape[0]\n",
        "num_batches = int(math.ceil(total_samples/batch_size))\n",
        "\n",
        "# these lists will be used to display accuracy/loss graphs over epochs\n",
        "train_acc, test_acc = [], []\n",
        "train_loss, test_loss = [], []\n",
        "xticks = []\n",
        "  \n",
        "for epoch in range(1, num_epochs + 1):\n",
        "  for itr in range(num_batches):\n",
        "    batch_x, batch_y = mnist.train.next_batch(batch_size=batch_size)\n",
        "    sess.run(ctrain, feed_dict={cX: batch_x, cy: batch_y})\n",
        "    \n",
        "  if epoch % log_step == 0:\n",
        "    trls, trac = sess.run([closs, caccuracy], feed_dict={cX: batch_x, cy: batch_y})\n",
        "    tsls, tsac = sess.run([closs, caccuracy], feed_dict={cX: mnist.test.images, cy: mnist.test.labels})\n",
        "    \n",
        "    train_acc.append(trac)\n",
        "    test_acc.append(tsac)\n",
        "    train_loss.append(trls)\n",
        "    test_loss.append(tsls)\n",
        "    xticks.append(epoch)\n",
        "    \n",
        "  if epoch % display_step == 0:\n",
        "    print(f'Epoch:{epoch}')\n",
        "    print(f'Train set:\\tLoss:{trls:.4f},\\tAccuracy:{trac:.4f}')\n",
        "    print(f'Test set:\\tLoss:{tsls:.4f},\\tAccuracy:{tsac:.4f}\\n')"
      ],
      "execution_count": 19,
      "outputs": [
        {
          "output_type": "stream",
          "text": [
            "Epoch:20\n",
            "Train set:\tLoss:0.0216,\tAccuracy:0.9950\n",
            "Test set:\tLoss:0.0883,\tAccuracy:0.9781\n",
            "\n",
            "Epoch:40\n",
            "Train set:\tLoss:0.0016,\tAccuracy:1.0000\n",
            "Test set:\tLoss:0.1379,\tAccuracy:0.9774\n",
            "\n",
            "Epoch:60\n",
            "Train set:\tLoss:0.0002,\tAccuracy:1.0000\n",
            "Test set:\tLoss:0.1626,\tAccuracy:0.9794\n",
            "\n"
          ],
          "name": "stdout"
        }
      ]
    },
    {
      "metadata": {
        "colab_type": "code",
        "id": "Xeu4lT9P4GwN",
        "colab": {}
      },
      "cell_type": "code",
      "source": [
        "# sess.close()"
      ],
      "execution_count": 0,
      "outputs": []
    }
  ]
}